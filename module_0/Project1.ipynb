{
 "cells": [
  {
   "cell_type": "code",
   "execution_count": 2,
   "metadata": {},
   "outputs": [
    {
     "name": "stdout",
     "output_type": "stream",
     "text": [
      "Ваш алгоритм угадывает число в среднем за 10 попыток\n"
     ]
    },
    {
     "data": {
      "text/plain": [
       "10"
      ]
     },
     "execution_count": 2,
     "metadata": {},
     "output_type": "execute_result"
    }
   ],
   "source": [
    "def game_core_v2(number):\n",
    "    '''Функция угадывает число путем деления отрезка от нижней границы до верхней границы напополам. \n",
    "    При каждой итерации функция сужает диапазон: если загаданное число больше - функция сдвигает нижнюю границу диапазона, если меньше - большую.    \n",
    "    Функция возвращает число попыток угадывания числа'''\n",
    "    count = 1\n",
    "    lower_bound = 1\n",
    "    upper_bound = 101\n",
    "    predict = int((upper_bound-lower_bound) / 2)\n",
    "    \n",
    "    while number != predict:\n",
    "        count+=1\n",
    "        if number > predict:\n",
    "            lower_bound = predict + 1\n",
    "            predict = lower_bound + int((upper_bound-lower_bound) / 2)\n",
    "        elif number < predict:\n",
    "            upper_bound = predict\n",
    "            predict = int((upper_bound-lower_bound) / 2)\n",
    "            \n",
    "    return(count) # выход из цикла, если угадали\n",
    "\n",
    "\n",
    "import numpy as np\n",
    "def score_game(game_core):\n",
    "    '''Запускаем игру 1000 раз, чтобы узнать, как быстро игра угадывает число'''\n",
    "    count_ls = []\n",
    "    np.random.seed(1)  # фиксируем RANDOM SEED, чтобы ваш эксперимент был воспроизводим!\n",
    "    random_array = np.random.randint(1,101, size=(1000))\n",
    "    for number in random_array:\n",
    "        count_ls.append(game_core(number))\n",
    "    score = int(np.mean(count_ls))\n",
    "    print(f\"Ваш алгоритм угадывает число в среднем за {score} попыток\")\n",
    "    \n",
    "    return(score)\n",
    "\n",
    "\n",
    "score_game(game_core_v2) #запуск функций "
   ]
  },
  {
   "cell_type": "code",
   "execution_count": null,
   "metadata": {},
   "outputs": [],
   "source": []
  }
 ],
 "metadata": {
  "kernelspec": {
   "display_name": "Python 3",
   "language": "python",
   "name": "python3"
  },
  "language_info": {
   "codemirror_mode": {
    "name": "ipython",
    "version": 3
   },
   "file_extension": ".py",
   "mimetype": "text/x-python",
   "name": "python",
   "nbconvert_exporter": "python",
   "pygments_lexer": "ipython3",
   "version": "3.7.4"
  }
 },
 "nbformat": 4,
 "nbformat_minor": 2
}
